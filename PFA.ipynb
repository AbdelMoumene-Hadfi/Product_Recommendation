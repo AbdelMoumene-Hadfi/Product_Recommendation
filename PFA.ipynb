{
  "nbformat": 4,
  "nbformat_minor": 0,
  "metadata": {
    "colab": {
      "name": "PFA2.ipynb",
      "provenance": [],
      "authorship_tag": "ABX9TyMALLsP2oB59DduvU2GR+hF",
      "include_colab_link": true
    },
    "kernelspec": {
      "name": "python3",
      "display_name": "Python 3"
    }
  },
  "cells": [
    {
      "cell_type": "markdown",
      "metadata": {
        "id": "view-in-github",
        "colab_type": "text"
      },
      "source": [
        "<a href=\"https://colab.research.google.com/github/AbdelMoumene-Hadfi/Product_Recommendation/blob/master/PFA.ipynb\" target=\"_parent\"><img src=\"https://colab.research.google.com/assets/colab-badge.svg\" alt=\"Open In Colab\"/></a>"
      ]
    },
    {
      "cell_type": "code",
      "metadata": {
        "id": "7zjNvGB3bZ1A",
        "colab_type": "code",
        "outputId": "179af565-5a43-4a09-edde-2624b06a99f7",
        "colab": {
          "base_uri": "https://localhost:8080/",
          "height": 121
        }
      },
      "source": [
        "!pip install surprise"
      ],
      "execution_count": 0,
      "outputs": [
        {
          "output_type": "stream",
          "text": [
            "Requirement already satisfied: surprise in /usr/local/lib/python3.6/dist-packages (0.1)\n",
            "Requirement already satisfied: scikit-surprise in /usr/local/lib/python3.6/dist-packages (from surprise) (1.1.0)\n",
            "Requirement already satisfied: numpy>=1.11.2 in /usr/local/lib/python3.6/dist-packages (from scikit-surprise->surprise) (1.18.5)\n",
            "Requirement already satisfied: scipy>=1.0.0 in /usr/local/lib/python3.6/dist-packages (from scikit-surprise->surprise) (1.4.1)\n",
            "Requirement already satisfied: six>=1.10.0 in /usr/local/lib/python3.6/dist-packages (from scikit-surprise->surprise) (1.12.0)\n",
            "Requirement already satisfied: joblib>=0.11 in /usr/local/lib/python3.6/dist-packages (from scikit-surprise->surprise) (0.15.1)\n"
          ],
          "name": "stdout"
        }
      ]
    },
    {
      "cell_type": "code",
      "metadata": {
        "id": "pyV3ICxJbbgl",
        "colab_type": "code",
        "colab": {}
      },
      "source": [
        "import pandas as pd\n",
        "import numpy as np\n",
        "from surprise import *\n",
        "from surprise.model_selection import cross_validate\n",
        "from surprise.model_selection import train_test_split"
      ],
      "execution_count": 0,
      "outputs": []
    },
    {
      "cell_type": "code",
      "metadata": {
        "id": "D-iYfLcFbi3N",
        "colab_type": "code",
        "outputId": "9df2347c-0993-413d-d79f-1bd44d4bb7b7",
        "colab": {
          "base_uri": "https://localhost:8080/",
          "height": 206
        }
      },
      "source": [
        "file = pd.read_csv(\"/content/out.csv\",names=['userId', 'productId','Rating','timestamp'])\n",
        "file = file.drop(columns=['timestamp'])\n",
        "file.head()"
      ],
      "execution_count": 0,
      "outputs": [
        {
          "output_type": "execute_result",
          "data": {
            "text/html": [
              "<div>\n",
              "<style scoped>\n",
              "    .dataframe tbody tr th:only-of-type {\n",
              "        vertical-align: middle;\n",
              "    }\n",
              "\n",
              "    .dataframe tbody tr th {\n",
              "        vertical-align: top;\n",
              "    }\n",
              "\n",
              "    .dataframe thead th {\n",
              "        text-align: right;\n",
              "    }\n",
              "</style>\n",
              "<table border=\"1\" class=\"dataframe\">\n",
              "  <thead>\n",
              "    <tr style=\"text-align: right;\">\n",
              "      <th></th>\n",
              "      <th>userId</th>\n",
              "      <th>productId</th>\n",
              "      <th>Rating</th>\n",
              "    </tr>\n",
              "  </thead>\n",
              "  <tbody>\n",
              "    <tr>\n",
              "      <th>631</th>\n",
              "      <td>A3TAS1AG6FMBQW</td>\n",
              "      <td>0972683275</td>\n",
              "      <td>5.0</td>\n",
              "    </tr>\n",
              "    <tr>\n",
              "      <th>2162</th>\n",
              "      <td>A5JLAU2ARJ0BO</td>\n",
              "      <td>1400532655</td>\n",
              "      <td>1.0</td>\n",
              "    </tr>\n",
              "    <tr>\n",
              "      <th>6268</th>\n",
              "      <td>A18HE80910BTZI</td>\n",
              "      <td>9983891212</td>\n",
              "      <td>5.0</td>\n",
              "    </tr>\n",
              "    <tr>\n",
              "      <th>8147</th>\n",
              "      <td>A1T1YSCDW0PD25</td>\n",
              "      <td>B00000DM9W</td>\n",
              "      <td>5.0</td>\n",
              "    </tr>\n",
              "    <tr>\n",
              "      <th>9805</th>\n",
              "      <td>A2HMF8ZR67BNZS</td>\n",
              "      <td>B00000J1EQ</td>\n",
              "      <td>5.0</td>\n",
              "    </tr>\n",
              "  </tbody>\n",
              "</table>\n",
              "</div>"
            ],
            "text/plain": [
              "              userId   productId  Rating\n",
              "631   A3TAS1AG6FMBQW  0972683275     5.0\n",
              "2162   A5JLAU2ARJ0BO  1400532655     1.0\n",
              "6268  A18HE80910BTZI  9983891212     5.0\n",
              "8147  A1T1YSCDW0PD25  B00000DM9W     5.0\n",
              "9805  A2HMF8ZR67BNZS  B00000J1EQ     5.0"
            ]
          },
          "metadata": {
            "tags": []
          },
          "execution_count": 8
        }
      ]
    },
    {
      "cell_type": "code",
      "metadata": {
        "id": "sV21fylPqu3b",
        "colab_type": "code",
        "outputId": "d8d0a35a-230d-4b3a-eba7-9cf2ca09a09e",
        "colab": {
          "base_uri": "https://localhost:8080/",
          "height": 104
        }
      },
      "source": [
        "print(\"Total data \")\n",
        "print(\"-\"*50)\n",
        "print(\"Total No of ratings :\",file.shape[0])\n",
        "print(\"Total No of Unique Users   :\", len(np.unique(file.userId)))\n",
        "print(\"Total No of Unique products  :\", len(np.unique(file.productId)))"
      ],
      "execution_count": 0,
      "outputs": [
        {
          "output_type": "stream",
          "text": [
            "Total data \n",
            "--------------------------------------------------\n",
            "Total No of ratings : 9472\n",
            "Total No of Unique Users   : 85\n",
            "Total No of Unique products  : 4450\n"
          ],
          "name": "stdout"
        }
      ]
    },
    {
      "cell_type": "code",
      "metadata": {
        "id": "ArqpgQPtbhvA",
        "colab_type": "code",
        "colab": {}
      },
      "source": [
        "reader = Reader(rating_scale=(0, 9))\n",
        "data = Dataset.load_from_df(file[[\"userId\",\"productId\",\"Rating\"]], reader)"
      ],
      "execution_count": 0,
      "outputs": []
    },
    {
      "cell_type": "code",
      "metadata": {
        "id": "6OHcbvq14S8i",
        "colab_type": "code",
        "outputId": "347427e9-08da-458d-8a43-1aa4c04953cb",
        "colab": {
          "base_uri": "https://localhost:8080/",
          "height": 947
        }
      },
      "source": [
        "benchmark = []\n",
        "# Iterate over all algorithms\n",
        "for algorithm in [SVD(), SVDpp(), SlopeOne(), NMF(), NormalPredictor(), KNNBaseline(), KNNBasic(), KNNWithMeans(), KNNWithZScore(), BaselineOnly(), CoClustering()]:\n",
        "    # Perform cross validation\n",
        "    results = cross_validate(algorithm, data, measures=['RMSE'], cv=3, verbose=False)\n",
        "    \n",
        "    # Get results & append algorithm name\n",
        "    tmp = pd.DataFrame.from_dict(results).mean(axis=0)\n",
        "    tmp = tmp.append(pd.Series([str(algorithm).split(' ')[0].split('.')[-1]], index=['Algorithm']))\n",
        "    benchmark.append(tmp)\n",
        "    \n",
        "pd.DataFrame(benchmark).set_index('Algorithm').sort_values('test_rmse')"
      ],
      "execution_count": 0,
      "outputs": [
        {
          "output_type": "stream",
          "text": [
            "Estimating biases using als...\n",
            "Computing the msd similarity matrix...\n",
            "Done computing similarity matrix.\n",
            "Estimating biases using als...\n",
            "Computing the msd similarity matrix...\n",
            "Done computing similarity matrix.\n",
            "Estimating biases using als...\n",
            "Computing the msd similarity matrix...\n",
            "Done computing similarity matrix.\n",
            "Computing the msd similarity matrix...\n",
            "Done computing similarity matrix.\n",
            "Computing the msd similarity matrix...\n",
            "Done computing similarity matrix.\n",
            "Computing the msd similarity matrix...\n",
            "Done computing similarity matrix.\n",
            "Computing the msd similarity matrix...\n",
            "Done computing similarity matrix.\n",
            "Computing the msd similarity matrix...\n",
            "Done computing similarity matrix.\n",
            "Computing the msd similarity matrix...\n",
            "Done computing similarity matrix.\n",
            "Computing the msd similarity matrix...\n",
            "Done computing similarity matrix.\n",
            "Computing the msd similarity matrix...\n",
            "Done computing similarity matrix.\n",
            "Computing the msd similarity matrix...\n",
            "Done computing similarity matrix.\n",
            "Estimating biases using als...\n",
            "Estimating biases using als...\n",
            "Estimating biases using als...\n"
          ],
          "name": "stdout"
        },
        {
          "output_type": "execute_result",
          "data": {
            "text/html": [
              "<div>\n",
              "<style scoped>\n",
              "    .dataframe tbody tr th:only-of-type {\n",
              "        vertical-align: middle;\n",
              "    }\n",
              "\n",
              "    .dataframe tbody tr th {\n",
              "        vertical-align: top;\n",
              "    }\n",
              "\n",
              "    .dataframe thead th {\n",
              "        text-align: right;\n",
              "    }\n",
              "</style>\n",
              "<table border=\"1\" class=\"dataframe\">\n",
              "  <thead>\n",
              "    <tr style=\"text-align: right;\">\n",
              "      <th></th>\n",
              "      <th>test_rmse</th>\n",
              "      <th>fit_time</th>\n",
              "      <th>test_time</th>\n",
              "    </tr>\n",
              "    <tr>\n",
              "      <th>Algorithm</th>\n",
              "      <th></th>\n",
              "      <th></th>\n",
              "      <th></th>\n",
              "    </tr>\n",
              "  </thead>\n",
              "  <tbody>\n",
              "    <tr>\n",
              "      <th>BaselineOnly</th>\n",
              "      <td>0.878134</td>\n",
              "      <td>0.015024</td>\n",
              "      <td>0.015220</td>\n",
              "    </tr>\n",
              "    <tr>\n",
              "      <th>SVDpp</th>\n",
              "      <td>0.881788</td>\n",
              "      <td>6.293937</td>\n",
              "      <td>0.187910</td>\n",
              "    </tr>\n",
              "    <tr>\n",
              "      <th>SVD</th>\n",
              "      <td>0.881895</td>\n",
              "      <td>0.366550</td>\n",
              "      <td>0.017752</td>\n",
              "    </tr>\n",
              "    <tr>\n",
              "      <th>KNNBaseline</th>\n",
              "      <td>0.959964</td>\n",
              "      <td>0.014482</td>\n",
              "      <td>0.036462</td>\n",
              "    </tr>\n",
              "    <tr>\n",
              "      <th>KNNWithMeans</th>\n",
              "      <td>0.984950</td>\n",
              "      <td>0.003938</td>\n",
              "      <td>0.032130</td>\n",
              "    </tr>\n",
              "    <tr>\n",
              "      <th>KNNWithZScore</th>\n",
              "      <td>0.986494</td>\n",
              "      <td>0.008524</td>\n",
              "      <td>0.034048</td>\n",
              "    </tr>\n",
              "    <tr>\n",
              "      <th>CoClustering</th>\n",
              "      <td>1.001310</td>\n",
              "      <td>0.384176</td>\n",
              "      <td>0.015362</td>\n",
              "    </tr>\n",
              "    <tr>\n",
              "      <th>KNNBasic</th>\n",
              "      <td>1.003674</td>\n",
              "      <td>0.002176</td>\n",
              "      <td>0.052550</td>\n",
              "    </tr>\n",
              "    <tr>\n",
              "      <th>SlopeOne</th>\n",
              "      <td>1.043512</td>\n",
              "      <td>0.314046</td>\n",
              "      <td>0.093240</td>\n",
              "    </tr>\n",
              "    <tr>\n",
              "      <th>NMF</th>\n",
              "      <td>1.072655</td>\n",
              "      <td>0.552993</td>\n",
              "      <td>0.016278</td>\n",
              "    </tr>\n",
              "    <tr>\n",
              "      <th>NormalPredictor</th>\n",
              "      <td>1.346340</td>\n",
              "      <td>0.007797</td>\n",
              "      <td>0.020009</td>\n",
              "    </tr>\n",
              "  </tbody>\n",
              "</table>\n",
              "</div>"
            ],
            "text/plain": [
              "                 test_rmse  fit_time  test_time\n",
              "Algorithm                                      \n",
              "BaselineOnly      0.878134  0.015024   0.015220\n",
              "SVDpp             0.881788  6.293937   0.187910\n",
              "SVD               0.881895  0.366550   0.017752\n",
              "KNNBaseline       0.959964  0.014482   0.036462\n",
              "KNNWithMeans      0.984950  0.003938   0.032130\n",
              "KNNWithZScore     0.986494  0.008524   0.034048\n",
              "CoClustering      1.001310  0.384176   0.015362\n",
              "KNNBasic          1.003674  0.002176   0.052550\n",
              "SlopeOne          1.043512  0.314046   0.093240\n",
              "NMF               1.072655  0.552993   0.016278\n",
              "NormalPredictor   1.346340  0.007797   0.020009"
            ]
          },
          "metadata": {
            "tags": []
          },
          "execution_count": 26
        }
      ]
    },
    {
      "cell_type": "code",
      "metadata": {
        "id": "0jLDMPtyb973",
        "colab_type": "code",
        "colab": {}
      },
      "source": [
        "trainset, testset = train_test_split(data, test_size=0.3,random_state=10)"
      ],
      "execution_count": 0,
      "outputs": []
    },
    {
      "cell_type": "code",
      "metadata": {
        "id": "VfIO782ZcFJ_",
        "colab_type": "code",
        "outputId": "835add98-aff5-4bd1-b89f-6889668dcaf6",
        "colab": {
          "base_uri": "https://localhost:8080/",
          "height": 52
        }
      },
      "source": [
        "algo = KNNWithMeans(k=4, sim_options={'name': 'cosine', 'user_based': False})\n",
        "train_pred = algo.fit(trainset)\n",
        "test_pred = train_pred.test(testset)"
      ],
      "execution_count": 0,
      "outputs": [
        {
          "output_type": "stream",
          "text": [
            "Computing the cosine similarity matrix...\n",
            "Done computing similarity matrix.\n"
          ],
          "name": "stdout"
        }
      ]
    },
    {
      "cell_type": "code",
      "metadata": {
        "id": "nhDlCRt3cPgT",
        "colab_type": "code",
        "outputId": "5f4de404-5512-4f78-d398-b1c02d6897ef",
        "colab": {
          "base_uri": "https://localhost:8080/",
          "height": 69
        }
      },
      "source": [
        "print(\"Item-based Model : Recommander\")\n",
        "accuracy.rmse(test_pred, verbose=True)"
      ],
      "execution_count": 0,
      "outputs": [
        {
          "output_type": "stream",
          "text": [
            "Item-based Model : Recommander\n",
            "RMSE: 1.0107\n"
          ],
          "name": "stdout"
        },
        {
          "output_type": "execute_result",
          "data": {
            "text/plain": [
              "1.0106502286432053"
            ]
          },
          "metadata": {
            "tags": []
          },
          "execution_count": 18
        }
      ]
    },
    {
      "cell_type": "code",
      "metadata": {
        "id": "qnnoAwOGcVpa",
        "colab_type": "code",
        "outputId": "917c92ff-bacd-4907-dd28-f188414ebe28",
        "colab": {
          "base_uri": "https://localhost:8080/",
          "height": 424
        }
      },
      "source": [
        "def get_Iu(uid):\n",
        "    \"\"\" return the number of items rated by given user\n",
        "    args: \n",
        "      uid: the id of the user\n",
        "    returns: \n",
        "      the number of items rated by the user\n",
        "    \"\"\"\n",
        "    try:\n",
        "        return len(trainset.ur[trainset.to_inner_uid(uid)])\n",
        "    except ValueError: # user was not part of the trainset\n",
        "        return 0\n",
        "    \n",
        "def get_Ui(iid):\n",
        "    \"\"\" return number of users that have rated given item\n",
        "    args:\n",
        "      iid: the raw id of the item\n",
        "    returns:\n",
        "      the number of users that have rated the item.\n",
        "    \"\"\"\n",
        "    try: \n",
        "        return len(trainset.ir[trainset.to_inner_iid(iid)])\n",
        "    except ValueError:\n",
        "        return 0\n",
        "    \n",
        "df = pd.DataFrame(test_pred, columns=['uid', 'iid', 'r_ui', 'est', 'details'])\n",
        "df['Iu'] = df.uid.apply(get_Iu)\n",
        "df['Ui'] = df.iid.apply(get_Ui)\n",
        "df['err'] = abs(df.est - df.r_ui)\n",
        "best_predictions = df.sort_values(by='err')[:10]\n",
        "worst_predictions = df.sort_values(by='err')[-10:]\n",
        "df"
      ],
      "execution_count": 0,
      "outputs": [
        {
          "output_type": "execute_result",
          "data": {
            "text/html": [
              "<div>\n",
              "<style scoped>\n",
              "    .dataframe tbody tr th:only-of-type {\n",
              "        vertical-align: middle;\n",
              "    }\n",
              "\n",
              "    .dataframe tbody tr th {\n",
              "        vertical-align: top;\n",
              "    }\n",
              "\n",
              "    .dataframe thead th {\n",
              "        text-align: right;\n",
              "    }\n",
              "</style>\n",
              "<table border=\"1\" class=\"dataframe\">\n",
              "  <thead>\n",
              "    <tr style=\"text-align: right;\">\n",
              "      <th></th>\n",
              "      <th>uid</th>\n",
              "      <th>iid</th>\n",
              "      <th>r_ui</th>\n",
              "      <th>est</th>\n",
              "      <th>details</th>\n",
              "      <th>Iu</th>\n",
              "      <th>Ui</th>\n",
              "      <th>err</th>\n",
              "    </tr>\n",
              "  </thead>\n",
              "  <tbody>\n",
              "    <tr>\n",
              "      <th>0</th>\n",
              "      <td>A3W4D8XOGLWUN5</td>\n",
              "      <td>B0009WKBGC</td>\n",
              "      <td>4.0</td>\n",
              "      <td>5.000000</td>\n",
              "      <td>{'actual_k': 0, 'was_impossible': False}</td>\n",
              "      <td>53</td>\n",
              "      <td>1</td>\n",
              "      <td>1.000000</td>\n",
              "    </tr>\n",
              "    <tr>\n",
              "      <th>1</th>\n",
              "      <td>A3J8A5L5AF5TX9</td>\n",
              "      <td>B004M8SCHO</td>\n",
              "      <td>4.0</td>\n",
              "      <td>4.352338</td>\n",
              "      <td>{'was_impossible': True, 'reason': 'User and/o...</td>\n",
              "      <td>80</td>\n",
              "      <td>0</td>\n",
              "      <td>0.352338</td>\n",
              "    </tr>\n",
              "    <tr>\n",
              "      <th>2</th>\n",
              "      <td>A3NHUQ33CFH3VM</td>\n",
              "      <td>B00BOHNYTW</td>\n",
              "      <td>5.0</td>\n",
              "      <td>4.484347</td>\n",
              "      <td>{'actual_k': 4, 'was_impossible': False}</td>\n",
              "      <td>79</td>\n",
              "      <td>16</td>\n",
              "      <td>0.515653</td>\n",
              "    </tr>\n",
              "    <tr>\n",
              "      <th>3</th>\n",
              "      <td>A1T1YSCDW0PD25</td>\n",
              "      <td>B001QUA6R0</td>\n",
              "      <td>5.0</td>\n",
              "      <td>5.000000</td>\n",
              "      <td>{'actual_k': 0, 'was_impossible': False}</td>\n",
              "      <td>90</td>\n",
              "      <td>1</td>\n",
              "      <td>0.000000</td>\n",
              "    </tr>\n",
              "    <tr>\n",
              "      <th>4</th>\n",
              "      <td>A3R4794K2RVU1S</td>\n",
              "      <td>B007KZQM9G</td>\n",
              "      <td>5.0</td>\n",
              "      <td>4.500000</td>\n",
              "      <td>{'actual_k': 0, 'was_impossible': False}</td>\n",
              "      <td>63</td>\n",
              "      <td>2</td>\n",
              "      <td>0.500000</td>\n",
              "    </tr>\n",
              "    <tr>\n",
              "      <th>...</th>\n",
              "      <td>...</td>\n",
              "      <td>...</td>\n",
              "      <td>...</td>\n",
              "      <td>...</td>\n",
              "      <td>...</td>\n",
              "      <td>...</td>\n",
              "      <td>...</td>\n",
              "      <td>...</td>\n",
              "    </tr>\n",
              "    <tr>\n",
              "      <th>2837</th>\n",
              "      <td>A2BMZRO0H7TFCS</td>\n",
              "      <td>B00HPM1FZ0</td>\n",
              "      <td>2.0</td>\n",
              "      <td>4.000000</td>\n",
              "      <td>{'actual_k': 0, 'was_impossible': False}</td>\n",
              "      <td>84</td>\n",
              "      <td>3</td>\n",
              "      <td>2.000000</td>\n",
              "    </tr>\n",
              "    <tr>\n",
              "      <th>2838</th>\n",
              "      <td>AEJAGHLC675A7</td>\n",
              "      <td>B00834SJNA</td>\n",
              "      <td>5.0</td>\n",
              "      <td>5.000000</td>\n",
              "      <td>{'actual_k': 2, 'was_impossible': False}</td>\n",
              "      <td>78</td>\n",
              "      <td>11</td>\n",
              "      <td>0.000000</td>\n",
              "    </tr>\n",
              "    <tr>\n",
              "      <th>2839</th>\n",
              "      <td>A3CG93783LP0FO</td>\n",
              "      <td>B000JMJWV2</td>\n",
              "      <td>5.0</td>\n",
              "      <td>3.964170</td>\n",
              "      <td>{'actual_k': 4, 'was_impossible': False}</td>\n",
              "      <td>78</td>\n",
              "      <td>10</td>\n",
              "      <td>1.035830</td>\n",
              "    </tr>\n",
              "    <tr>\n",
              "      <th>2840</th>\n",
              "      <td>A1EVV74UQYVKRY</td>\n",
              "      <td>B00834SJNA</td>\n",
              "      <td>5.0</td>\n",
              "      <td>4.710071</td>\n",
              "      <td>{'actual_k': 4, 'was_impossible': False}</td>\n",
              "      <td>57</td>\n",
              "      <td>11</td>\n",
              "      <td>0.289929</td>\n",
              "    </tr>\n",
              "    <tr>\n",
              "      <th>2841</th>\n",
              "      <td>A20DZX38KRBIT8</td>\n",
              "      <td>B000J47W12</td>\n",
              "      <td>5.0</td>\n",
              "      <td>5.000000</td>\n",
              "      <td>{'actual_k': 0, 'was_impossible': False}</td>\n",
              "      <td>71</td>\n",
              "      <td>1</td>\n",
              "      <td>0.000000</td>\n",
              "    </tr>\n",
              "  </tbody>\n",
              "</table>\n",
              "<p>2842 rows × 8 columns</p>\n",
              "</div>"
            ],
            "text/plain": [
              "                 uid         iid  r_ui  ...  Iu  Ui       err\n",
              "0     A3W4D8XOGLWUN5  B0009WKBGC   4.0  ...  53   1  1.000000\n",
              "1     A3J8A5L5AF5TX9  B004M8SCHO   4.0  ...  80   0  0.352338\n",
              "2     A3NHUQ33CFH3VM  B00BOHNYTW   5.0  ...  79  16  0.515653\n",
              "3     A1T1YSCDW0PD25  B001QUA6R0   5.0  ...  90   1  0.000000\n",
              "4     A3R4794K2RVU1S  B007KZQM9G   5.0  ...  63   2  0.500000\n",
              "...              ...         ...   ...  ...  ..  ..       ...\n",
              "2837  A2BMZRO0H7TFCS  B00HPM1FZ0   2.0  ...  84   3  2.000000\n",
              "2838   AEJAGHLC675A7  B00834SJNA   5.0  ...  78  11  0.000000\n",
              "2839  A3CG93783LP0FO  B000JMJWV2   5.0  ...  78  10  1.035830\n",
              "2840  A1EVV74UQYVKRY  B00834SJNA   5.0  ...  57  11  0.289929\n",
              "2841  A20DZX38KRBIT8  B000J47W12   5.0  ...  71   1  0.000000\n",
              "\n",
              "[2842 rows x 8 columns]"
            ]
          },
          "metadata": {
            "tags": []
          },
          "execution_count": 20
        }
      ]
    },
    {
      "cell_type": "code",
      "metadata": {
        "id": "p7RC1NZLca9v",
        "colab_type": "code",
        "colab": {}
      },
      "source": [
        "df_true = df[df.details == {'actual_k': 1, 'was_impossible': False}]\n",
        "df_true"
      ],
      "execution_count": 0,
      "outputs": []
    },
    {
      "cell_type": "code",
      "metadata": {
        "id": "7m1IhAEMdKw7",
        "colab_type": "code",
        "outputId": "7c3791fe-dfe3-4f4e-cfab-31a124ffdefc",
        "colab": {
          "base_uri": "https://localhost:8080/",
          "height": 34
        }
      },
      "source": [
        "algo.predict(uid='A20DZX38KRBIT8',iid='B00834SJNA').est "
      ],
      "execution_count": 0,
      "outputs": [
        {
          "output_type": "execute_result",
          "data": {
            "text/plain": [
              "4.990530303030304"
            ]
          },
          "metadata": {
            "tags": []
          },
          "execution_count": 16
        }
      ]
    },
    {
      "cell_type": "code",
      "metadata": {
        "id": "g3OqxgFHeY9E",
        "colab_type": "code",
        "colab": {}
      },
      "source": [
        "import pickle"
      ],
      "execution_count": 0,
      "outputs": []
    },
    {
      "cell_type": "code",
      "metadata": {
        "id": "XGK8By3Ee4FO",
        "colab_type": "code",
        "colab": {}
      },
      "source": [
        "model_file = 'knnmean.sav'\n",
        "pickle.dump(algo,open(model_file,'wb'))"
      ],
      "execution_count": 0,
      "outputs": []
    }
  ]
}